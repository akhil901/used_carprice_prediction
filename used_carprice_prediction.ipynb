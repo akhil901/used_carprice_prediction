{
 "cells": [
  {
   "cell_type": "code",
   "execution_count": 1,
   "metadata": {},
   "outputs": [],
   "source": [
    "import pandas as pd\n",
    "import numpy as np\n",
    "import matplotlib.pyplot as plt\n",
    "import seaborn as sns\n",
    "import math\n",
    "from sklearn.linear_model import LinearRegression\n",
    "from sklearn.model_selection import train_test_split\n",
    "from sklearn.preprocessing import StandardScaler\n",
    "import warnings\n",
    "warnings.filterwarnings(\"ignore\")\n",
    "%matplotlib inline\n"
   ]
  },
  {
   "cell_type": "code",
   "execution_count": 2,
   "metadata": {},
   "outputs": [],
   "source": [
    "df = pd.read_csv(\"cars_price.csv\")"
   ]
  },
  {
   "cell_type": "code",
   "execution_count": 3,
   "metadata": {},
   "outputs": [
    {
     "data": {
      "text/html": [
       "<div>\n",
       "<style scoped>\n",
       "    .dataframe tbody tr th:only-of-type {\n",
       "        vertical-align: middle;\n",
       "    }\n",
       "\n",
       "    .dataframe tbody tr th {\n",
       "        vertical-align: top;\n",
       "    }\n",
       "\n",
       "    .dataframe thead th {\n",
       "        text-align: right;\n",
       "    }\n",
       "</style>\n",
       "<table border=\"1\" class=\"dataframe\">\n",
       "  <thead>\n",
       "    <tr style=\"text-align: right;\">\n",
       "      <th></th>\n",
       "      <th>Unnamed: 0</th>\n",
       "      <th>make</th>\n",
       "      <th>model</th>\n",
       "      <th>priceUSD</th>\n",
       "      <th>year</th>\n",
       "      <th>condition</th>\n",
       "      <th>mileage(kilometers)</th>\n",
       "      <th>fuel_type</th>\n",
       "      <th>volume(cm3)</th>\n",
       "      <th>color</th>\n",
       "      <th>transmission</th>\n",
       "      <th>drive_unit</th>\n",
       "      <th>segment</th>\n",
       "    </tr>\n",
       "  </thead>\n",
       "  <tbody>\n",
       "    <tr>\n",
       "      <td>0</td>\n",
       "      <td>0</td>\n",
       "      <td>honda</td>\n",
       "      <td>accord</td>\n",
       "      <td>565</td>\n",
       "      <td>1993</td>\n",
       "      <td>with mileage</td>\n",
       "      <td>960015.0</td>\n",
       "      <td>petrol</td>\n",
       "      <td>2000.0</td>\n",
       "      <td>black</td>\n",
       "      <td>mechanics</td>\n",
       "      <td>front-wheel drive</td>\n",
       "      <td>D</td>\n",
       "    </tr>\n",
       "    <tr>\n",
       "      <td>1</td>\n",
       "      <td>1</td>\n",
       "      <td>ford</td>\n",
       "      <td>fusion</td>\n",
       "      <td>5550</td>\n",
       "      <td>2008</td>\n",
       "      <td>with mileage</td>\n",
       "      <td>172000.0</td>\n",
       "      <td>diesel</td>\n",
       "      <td>1400.0</td>\n",
       "      <td>silver</td>\n",
       "      <td>mechanics</td>\n",
       "      <td>front-wheel drive</td>\n",
       "      <td>M</td>\n",
       "    </tr>\n",
       "    <tr>\n",
       "      <td>2</td>\n",
       "      <td>2</td>\n",
       "      <td>nissan</td>\n",
       "      <td>teana</td>\n",
       "      <td>8300</td>\n",
       "      <td>2008</td>\n",
       "      <td>with mileage</td>\n",
       "      <td>223000.0</td>\n",
       "      <td>petrol</td>\n",
       "      <td>2500.0</td>\n",
       "      <td>purple</td>\n",
       "      <td>auto</td>\n",
       "      <td>front-wheel drive</td>\n",
       "      <td>D</td>\n",
       "    </tr>\n",
       "    <tr>\n",
       "      <td>3</td>\n",
       "      <td>3</td>\n",
       "      <td>volkswagen</td>\n",
       "      <td>fox</td>\n",
       "      <td>3300</td>\n",
       "      <td>2005</td>\n",
       "      <td>with mileage</td>\n",
       "      <td>140000.0</td>\n",
       "      <td>petrol</td>\n",
       "      <td>1200.0</td>\n",
       "      <td>blue</td>\n",
       "      <td>mechanics</td>\n",
       "      <td>front-wheel drive</td>\n",
       "      <td>A</td>\n",
       "    </tr>\n",
       "    <tr>\n",
       "      <td>4</td>\n",
       "      <td>4</td>\n",
       "      <td>nissan</td>\n",
       "      <td>primera</td>\n",
       "      <td>2450</td>\n",
       "      <td>2002</td>\n",
       "      <td>with damage</td>\n",
       "      <td>413000.0</td>\n",
       "      <td>diesel</td>\n",
       "      <td>2200.0</td>\n",
       "      <td>burgundy</td>\n",
       "      <td>mechanics</td>\n",
       "      <td>front-wheel drive</td>\n",
       "      <td>D</td>\n",
       "    </tr>\n",
       "  </tbody>\n",
       "</table>\n",
       "</div>"
      ],
      "text/plain": [
       "   Unnamed: 0        make    model  priceUSD  year     condition  \\\n",
       "0           0       honda   accord       565  1993  with mileage   \n",
       "1           1        ford   fusion      5550  2008  with mileage   \n",
       "2           2      nissan    teana      8300  2008  with mileage   \n",
       "3           3  volkswagen      fox      3300  2005  with mileage   \n",
       "4           4      nissan  primera      2450  2002   with damage   \n",
       "\n",
       "   mileage(kilometers) fuel_type  volume(cm3)     color transmission  \\\n",
       "0             960015.0    petrol       2000.0     black    mechanics   \n",
       "1             172000.0    diesel       1400.0    silver    mechanics   \n",
       "2             223000.0    petrol       2500.0    purple         auto   \n",
       "3             140000.0    petrol       1200.0      blue    mechanics   \n",
       "4             413000.0    diesel       2200.0  burgundy    mechanics   \n",
       "\n",
       "          drive_unit segment  \n",
       "0  front-wheel drive       D  \n",
       "1  front-wheel drive       M  \n",
       "2  front-wheel drive       D  \n",
       "3  front-wheel drive       A  \n",
       "4  front-wheel drive       D  "
      ]
     },
     "execution_count": 3,
     "metadata": {},
     "output_type": "execute_result"
    }
   ],
   "source": [
    "df.head()"
   ]
  },
  {
   "cell_type": "code",
   "execution_count": 4,
   "metadata": {},
   "outputs": [
    {
     "data": {
      "text/plain": [
       "Unnamed: 0                0\n",
       "make                      0\n",
       "model                     0\n",
       "priceUSD                  0\n",
       "year                      0\n",
       "condition                 0\n",
       "mileage(kilometers)       0\n",
       "fuel_type                 0\n",
       "volume(cm3)              30\n",
       "color                     0\n",
       "transmission              0\n",
       "drive_unit             1345\n",
       "segment                3755\n",
       "dtype: int64"
      ]
     },
     "execution_count": 4,
     "metadata": {},
     "output_type": "execute_result"
    }
   ],
   "source": [
    "df.isna().sum()"
   ]
  },
  {
   "cell_type": "code",
   "execution_count": 5,
   "metadata": {},
   "outputs": [],
   "source": [
    "df['volume(cm3)'].fillna(df['volume(cm3)'].median(),inplace=True)"
   ]
  },
  {
   "cell_type": "code",
   "execution_count": 6,
   "metadata": {},
   "outputs": [],
   "source": [
    "df.drop(['segment'],axis=1,inplace=True)"
   ]
  },
  {
   "cell_type": "code",
   "execution_count": 7,
   "metadata": {},
   "outputs": [],
   "source": [
    "# df.dropna(inplace=True,how='any',axis=0)\n",
    "df = df.replace(np.inf, np.nan).replace(-np.inf, np.nan).dropna()"
   ]
  },
  {
   "cell_type": "code",
   "execution_count": 8,
   "metadata": {},
   "outputs": [
    {
     "data": {
      "text/plain": [
       "Unnamed: 0             0\n",
       "make                   0\n",
       "model                  0\n",
       "priceUSD               0\n",
       "year                   0\n",
       "condition              0\n",
       "mileage(kilometers)    0\n",
       "fuel_type              0\n",
       "volume(cm3)            0\n",
       "color                  0\n",
       "transmission           0\n",
       "drive_unit             0\n",
       "dtype: int64"
      ]
     },
     "execution_count": 8,
     "metadata": {},
     "output_type": "execute_result"
    }
   ],
   "source": [
    "df.isna().sum()"
   ]
  },
  {
   "cell_type": "code",
   "execution_count": 9,
   "metadata": {},
   "outputs": [
    {
     "data": {
      "text/plain": [
       "(38655, 12)"
      ]
     },
     "execution_count": 9,
     "metadata": {},
     "output_type": "execute_result"
    }
   ],
   "source": [
    "df.shape"
   ]
  },
  {
   "cell_type": "code",
   "execution_count": 10,
   "metadata": {},
   "outputs": [],
   "source": [
    "# def new_col(x):\n",
    "#     y = 2020-x\n",
    "#     return (x+y)"
   ]
  },
  {
   "cell_type": "code",
   "execution_count": 11,
   "metadata": {},
   "outputs": [],
   "source": [
    "# df['newcol']=df['year'].map(lambda x:new_col(x))"
   ]
  },
  {
   "cell_type": "code",
   "execution_count": 12,
   "metadata": {},
   "outputs": [],
   "source": [
    "# df['year']=pd.to_datetime(df['year'])\n",
    "# df['newcol']=pd.to_datetime(df['newcol'])\n",
    "# df[\"year\"]=(df[\"newcol\"]-df['year']).dt.total_seconds() "
   ]
  },
  {
   "cell_type": "code",
   "execution_count": 13,
   "metadata": {},
   "outputs": [
    {
     "data": {
      "text/html": [
       "<div>\n",
       "<style scoped>\n",
       "    .dataframe tbody tr th:only-of-type {\n",
       "        vertical-align: middle;\n",
       "    }\n",
       "\n",
       "    .dataframe tbody tr th {\n",
       "        vertical-align: top;\n",
       "    }\n",
       "\n",
       "    .dataframe thead th {\n",
       "        text-align: right;\n",
       "    }\n",
       "</style>\n",
       "<table border=\"1\" class=\"dataframe\">\n",
       "  <thead>\n",
       "    <tr style=\"text-align: right;\">\n",
       "      <th></th>\n",
       "      <th>Unnamed: 0</th>\n",
       "      <th>make</th>\n",
       "      <th>model</th>\n",
       "      <th>priceUSD</th>\n",
       "      <th>year</th>\n",
       "      <th>condition</th>\n",
       "      <th>mileage(kilometers)</th>\n",
       "      <th>fuel_type</th>\n",
       "      <th>volume(cm3)</th>\n",
       "      <th>color</th>\n",
       "      <th>transmission</th>\n",
       "      <th>drive_unit</th>\n",
       "    </tr>\n",
       "  </thead>\n",
       "  <tbody>\n",
       "    <tr>\n",
       "      <td>0</td>\n",
       "      <td>0</td>\n",
       "      <td>honda</td>\n",
       "      <td>accord</td>\n",
       "      <td>565</td>\n",
       "      <td>1993</td>\n",
       "      <td>with mileage</td>\n",
       "      <td>960015.0</td>\n",
       "      <td>petrol</td>\n",
       "      <td>2000.0</td>\n",
       "      <td>black</td>\n",
       "      <td>mechanics</td>\n",
       "      <td>front-wheel drive</td>\n",
       "    </tr>\n",
       "    <tr>\n",
       "      <td>1</td>\n",
       "      <td>1</td>\n",
       "      <td>ford</td>\n",
       "      <td>fusion</td>\n",
       "      <td>5550</td>\n",
       "      <td>2008</td>\n",
       "      <td>with mileage</td>\n",
       "      <td>172000.0</td>\n",
       "      <td>diesel</td>\n",
       "      <td>1400.0</td>\n",
       "      <td>silver</td>\n",
       "      <td>mechanics</td>\n",
       "      <td>front-wheel drive</td>\n",
       "    </tr>\n",
       "    <tr>\n",
       "      <td>2</td>\n",
       "      <td>2</td>\n",
       "      <td>nissan</td>\n",
       "      <td>teana</td>\n",
       "      <td>8300</td>\n",
       "      <td>2008</td>\n",
       "      <td>with mileage</td>\n",
       "      <td>223000.0</td>\n",
       "      <td>petrol</td>\n",
       "      <td>2500.0</td>\n",
       "      <td>purple</td>\n",
       "      <td>auto</td>\n",
       "      <td>front-wheel drive</td>\n",
       "    </tr>\n",
       "    <tr>\n",
       "      <td>3</td>\n",
       "      <td>3</td>\n",
       "      <td>volkswagen</td>\n",
       "      <td>fox</td>\n",
       "      <td>3300</td>\n",
       "      <td>2005</td>\n",
       "      <td>with mileage</td>\n",
       "      <td>140000.0</td>\n",
       "      <td>petrol</td>\n",
       "      <td>1200.0</td>\n",
       "      <td>blue</td>\n",
       "      <td>mechanics</td>\n",
       "      <td>front-wheel drive</td>\n",
       "    </tr>\n",
       "    <tr>\n",
       "      <td>4</td>\n",
       "      <td>4</td>\n",
       "      <td>nissan</td>\n",
       "      <td>primera</td>\n",
       "      <td>2450</td>\n",
       "      <td>2002</td>\n",
       "      <td>with damage</td>\n",
       "      <td>413000.0</td>\n",
       "      <td>diesel</td>\n",
       "      <td>2200.0</td>\n",
       "      <td>burgundy</td>\n",
       "      <td>mechanics</td>\n",
       "      <td>front-wheel drive</td>\n",
       "    </tr>\n",
       "  </tbody>\n",
       "</table>\n",
       "</div>"
      ],
      "text/plain": [
       "   Unnamed: 0        make    model  priceUSD  year     condition  \\\n",
       "0           0       honda   accord       565  1993  with mileage   \n",
       "1           1        ford   fusion      5550  2008  with mileage   \n",
       "2           2      nissan    teana      8300  2008  with mileage   \n",
       "3           3  volkswagen      fox      3300  2005  with mileage   \n",
       "4           4      nissan  primera      2450  2002   with damage   \n",
       "\n",
       "   mileage(kilometers) fuel_type  volume(cm3)     color transmission  \\\n",
       "0             960015.0    petrol       2000.0     black    mechanics   \n",
       "1             172000.0    diesel       1400.0    silver    mechanics   \n",
       "2             223000.0    petrol       2500.0    purple         auto   \n",
       "3             140000.0    petrol       1200.0      blue    mechanics   \n",
       "4             413000.0    diesel       2200.0  burgundy    mechanics   \n",
       "\n",
       "          drive_unit  \n",
       "0  front-wheel drive  \n",
       "1  front-wheel drive  \n",
       "2  front-wheel drive  \n",
       "3  front-wheel drive  \n",
       "4  front-wheel drive  "
      ]
     },
     "execution_count": 13,
     "metadata": {},
     "output_type": "execute_result"
    }
   ],
   "source": [
    "df.head()"
   ]
  },
  {
   "cell_type": "markdown",
   "metadata": {},
   "source": [
    "# Exploratory Data Analysis\n"
   ]
  },
  {
   "cell_type": "code",
   "execution_count": 14,
   "metadata": {},
   "outputs": [
    {
     "data": {
      "text/plain": [
       "93"
      ]
     },
     "execution_count": 14,
     "metadata": {},
     "output_type": "execute_result"
    }
   ],
   "source": [
    "len(df.make.unique())"
   ]
  },
  {
   "cell_type": "code",
   "execution_count": 15,
   "metadata": {},
   "outputs": [
    {
     "data": {
      "text/plain": [
       "<matplotlib.axes._subplots.AxesSubplot at 0x2707f03b7c8>"
      ]
     },
     "execution_count": 15,
     "metadata": {},
     "output_type": "execute_result"
    },
    {
     "data": {
      "image/png": "[encoded data removed]",
      "text/plain": [
       "<Figure size 1080x576 with 1 Axes>"
      ]
     },
     "metadata": {
      "needs_background": "light"
     },
     "output_type": "display_data"
    }
   ],
   "source": [
    "plt.figure(figsize=(15,8))\n",
    "sns.countplot(data = df, x=\"color\",order = df['color'].value_counts().index)"
   ]
  },
  {
   "cell_type": "markdown",
   "metadata": {},
   "source": [
    " black,silver and blue color cars are mostly bought compared to other colors"
   ]
  },
  {
   "cell_type": "code",
   "execution_count": 16,
   "metadata": {},
   "outputs": [
    {
     "data": {
      "text/plain": [
       "[Text(0, 0.5, 'count'), Text(0.5, 0, 'transmission_type')]"
      ]
     },
     "execution_count": 16,
     "metadata": {},
     "output_type": "execute_result"
    },
    {
     "data": {
      "image/png": "[encoded data removed]",
      "text/plain": [
       "<Figure size 432x288 with 2 Axes>"
      ]
     },
     "metadata": {
      "needs_background": "light"
     },
     "output_type": "display_data"
    }
   ],
   "source": [
    "plt.subplot(1,2,1)\n",
    "plt1 = df.fuel_type.value_counts().plot('bar',color=['C1','C2'])\n",
    "plt.title(\"fuel_typecountplot\")\n",
    "plt1.set(xlabel=\"fuel_type\")\n",
    "plt.subplot(1,2,2)\n",
    "plt1 = df.transmission.value_counts().plot('bar',color=['C3','C4'])\n",
    "plt.title(\"transmission_count\")\n",
    "plt1.set(xlabel='transmission_type',ylabel='count')"
   ]
  },
  {
   "cell_type": "markdown",
   "metadata": {},
   "source": [
    "petrol type are most prefered than disel and electrocars are rarely bought\n"
   ]
  },
  {
   "cell_type": "code",
   "execution_count": 17,
   "metadata": {},
   "outputs": [
    {
     "data": {
      "text/plain": [
       "<matplotlib.axes._subplots.AxesSubplot at 0x270002039c8>"
      ]
     },
     "execution_count": 17,
     "metadata": {},
     "output_type": "execute_result"
    },
    {
     "data": {
      "image/png": "[encoded data removed]",
      "text/plain": [
       "<Figure size 432x288 with 1 Axes>"
      ]
     },
     "metadata": {
      "needs_background": "light"
     },
     "output_type": "display_data"
    }
   ],
   "source": [
    "sns.countplot(data = df, x=\"drive_unit\",order = df['drive_unit'].value_counts().index)"
   ]
  },
  {
   "cell_type": "code",
   "execution_count": 18,
   "metadata": {
    "scrolled": true
   },
   "outputs": [
    {
     "data": {
      "text/plain": [
       "<matplotlib.axes._subplots.AxesSubplot at 0x270004ca688>"
      ]
     },
     "execution_count": 18,
     "metadata": {},
     "output_type": "execute_result"
    },
    {
     "data": {
      "image/png": "[encoded data removed]",
      "text/plain": [
       "<Figure size 432x288 with 1 Axes>"
      ]
     },
     "metadata": {
      "needs_background": "light"
     },
     "output_type": "display_data"
    }
   ],
   "source": [
    "sns.countplot(x='fuel_type', hue='condition', data=df)"
   ]
  },
  {
   "cell_type": "markdown",
   "metadata": {},
   "source": [
    "            petrol and disel with_milage are sold more"
   ]
  },
  {
   "cell_type": "code",
   "execution_count": 19,
   "metadata": {},
   "outputs": [
    {
     "data": {
      "text/plain": [
       "30521"
      ]
     },
     "execution_count": 19,
     "metadata": {},
     "output_type": "execute_result"
    }
   ],
   "source": [
    "df.make.value_counts()[:15].sum()"
   ]
  },
  {
   "cell_type": "code",
   "execution_count": 20,
   "metadata": {},
   "outputs": [],
   "source": [
    "maps=['C0','C1','C2','C3','C4','C5','C6','C7','C8','C9','C10']"
   ]
  },
  {
   "cell_type": "code",
   "execution_count": 21,
   "metadata": {},
   "outputs": [
    {
     "data": {
      "text/plain": [
       "<matplotlib.axes._subplots.AxesSubplot at 0x2700055e748>"
      ]
     },
     "execution_count": 21,
     "metadata": {},
     "output_type": "execute_result"
    },
    {
     "data": {
      "image/png": "[encoded data removed]",
      "text/plain": [
       "<Figure size 1080x576 with 1 Axes>"
      ]
     },
     "metadata": {
      "needs_background": "light"
     },
     "output_type": "display_data"
    }
   ],
   "source": [
    "plt.figure(figsize=(15,8))\n",
    "plt.xlabel(\"make\")\n",
    "plt.ylabel(\"count\")\n",
    "df.make.value_counts()[:15].plot(kind='bar',color=maps)"
   ]
  },
  {
   "cell_type": "markdown",
   "metadata": {},
   "source": [
    "these are top 15 most purchased car companies \n",
    "volkswagan is most_purchased car following audi,bmw"
   ]
  },
  {
   "cell_type": "code",
   "execution_count": 22,
   "metadata": {},
   "outputs": [
    {
     "data": {
      "text/plain": [
       "<matplotlib.axes._subplots.AxesSubplot at 0x27000a80cc8>"
      ]
     },
     "execution_count": 22,
     "metadata": {},
     "output_type": "execute_result"
    },
    {
     "data": {
      "image/png": "[encoded data removed]",
      "text/plain": [
       "<Figure size 1080x576 with 1 Axes>"
      ]
     },
     "metadata": {
      "needs_background": "light"
     },
     "output_type": "display_data"
    }
   ],
   "source": [
    "plt.figure(figsize=(15,8))\n",
    "plt.ylabel(\"total price(USD) sum\")\n",
    "df.groupby('make')['priceUSD'].sum().sort_values(ascending=False)[:15].plot('bar',rot=80,color=maps)"
   ]
  },
  {
   "cell_type": "code",
   "execution_count": 23,
   "metadata": {},
   "outputs": [
    {
     "data": {
      "text/plain": [
       "<matplotlib.axes._subplots.AxesSubplot at 0x270006b2a88>"
      ]
     },
     "execution_count": 23,
     "metadata": {},
     "output_type": "execute_result"
    },
    {
     "data": {
      "image/png": "[encoded data removed]",
      "text/plain": [
       "<Figure size 1080x576 with 1 Axes>"
      ]
     },
     "metadata": {
      "needs_background": "light"
     },
     "output_type": "display_data"
    }
   ],
   "source": [
    "plt.figure(figsize=(15,8))\n",
    "plt.ylabel(\"total price(USD) sum\")\n",
    "df.groupby('make')['priceUSD'].median().sort_values(ascending=False)[:15].plot('bar',colormap='inferno',legend=True)"
   ]
  },
  {
   "cell_type": "raw",
   "metadata": {},
   "source": [
    "mclaren,bentley are most costly cars and follwed by aston-martin and tesla"
   ]
  },
  {
   "cell_type": "code",
   "execution_count": 24,
   "metadata": {},
   "outputs": [
    {
     "data": {
      "text/plain": [
       "<matplotlib.axes._subplots.AxesSubplot at 0x27000601a88>"
      ]
     },
     "execution_count": 24,
     "metadata": {},
     "output_type": "execute_result"
    },
    {
     "data": {
      "image/png": "[encoded data removed]",
      "text/plain": [
       "<Figure size 1080x576 with 1 Axes>"
      ]
     },
     "metadata": {
      "needs_background": "light"
     },
     "output_type": "display_data"
    }
   ],
   "source": [
    "plt.figure(figsize=(15,8))\n",
    "df.groupby(['make','fuel_type'])['priceUSD'].count().sort_values(ascending=False)[:15].plot('bar',colormap='prism',rot=80)"
   ]
  },
  {
   "cell_type": "raw",
   "metadata": {},
   "source": [
    "from the above graph it is evident that most of the cars runs on petrol volswagan and bmw are the only cars\n",
    "in top 15 which uses both petrol and diesel"
   ]
  },
  {
   "cell_type": "code",
   "execution_count": null,
   "metadata": {},
   "outputs": [],
   "source": []
  },
  {
   "cell_type": "code",
   "execution_count": 25,
   "metadata": {},
   "outputs": [
    {
     "data": {
      "text/plain": [
       "make\n",
       "acura           11500.0\n",
       "alfa-romeo       2200.0\n",
       "aro              3000.0\n",
       "aston-martin    95000.0\n",
       "audi             5775.0\n",
       "                 ...   \n",
       "volvo            8100.0\n",
       "vortex           5500.0\n",
       "wartburg         1000.0\n",
       "zaz               575.0\n",
       "zotye            9499.5\n",
       "Name: priceUSD, Length: 93, dtype: float64"
      ]
     },
     "execution_count": 25,
     "metadata": {},
     "output_type": "execute_result"
    }
   ],
   "source": [
    "df.groupby('make')['priceUSD'].median()"
   ]
  },
  {
   "cell_type": "code",
   "execution_count": null,
   "metadata": {},
   "outputs": [],
   "source": []
  },
  {
   "cell_type": "code",
   "execution_count": 26,
   "metadata": {},
   "outputs": [],
   "source": [
    "\n",
    "# make_median =dict(df.groupby('make')['priceUSD'].median())\n",
    "# df['make'].replace(make_median ,inplace=True)"
   ]
  },
  {
   "cell_type": "code",
   "execution_count": 27,
   "metadata": {},
   "outputs": [],
   "source": [
    "# plt.scatter(df['make'],df['priceUSD'])"
   ]
  },
  {
   "cell_type": "code",
   "execution_count": 28,
   "metadata": {},
   "outputs": [],
   "source": [
    "# df['make'] = df['make'].map(lambda x: (math.log(x)))"
   ]
  },
  {
   "cell_type": "code",
   "execution_count": 29,
   "metadata": {},
   "outputs": [],
   "source": [
    "# plt.scatter(df['make'],df['priceUSD'])"
   ]
  },
  {
   "cell_type": "code",
   "execution_count": 30,
   "metadata": {},
   "outputs": [
    {
     "data": {
      "text/plain": [
       "Text(0, 0.5, 'price')"
      ]
     },
     "execution_count": 30,
     "metadata": {},
     "output_type": "execute_result"
    },
    {
     "data": {
      "image/png": "[encoded data removed]",
      "text/plain": [
       "<Figure size 432x288 with 1 Axes>"
      ]
     },
     "metadata": {
      "needs_background": "light"
     },
     "output_type": "display_data"
    }
   ],
   "source": [
    "plt.scatter(df['year'],df['priceUSD'])\n",
    "plt.xlabel(\"year\")\n",
    "plt.ylabel('price')"
   ]
  },
  {
   "cell_type": "code",
   "execution_count": 31,
   "metadata": {},
   "outputs": [],
   "source": [
    "# df['volume(cm3)'] = df['volume(cm3)'].map(lambda x: (math.log(x)))"
   ]
  },
  {
   "cell_type": "code",
   "execution_count": 32,
   "metadata": {},
   "outputs": [
    {
     "data": {
      "text/plain": [
       "<matplotlib.collections.PathCollection at 0x27000ce7d88>"
      ]
     },
     "execution_count": 32,
     "metadata": {},
     "output_type": "execute_result"
    },
    {
     "data": {
      "image/png": "[encoded data removed]",
      "text/plain": [
       "<Figure size 432x288 with 1 Axes>"
      ]
     },
     "metadata": {
      "needs_background": "light"
     },
     "output_type": "display_data"
    }
   ],
   "source": [
    "plt.scatter(df['volume(cm3)'],df['priceUSD'])"
   ]
  },
  {
   "cell_type": "code",
   "execution_count": null,
   "metadata": {},
   "outputs": [],
   "source": []
  },
  {
   "cell_type": "code",
   "execution_count": 33,
   "metadata": {},
   "outputs": [],
   "source": [
    "# labelencoding based on the count\n",
    "def label_encoding(column):\n",
    "    cat_feature_value_counts = column.value_counts()\n",
    "    value_counts_list = cat_feature_value_counts.index.tolist()\n",
    "    value_counts_range = list(reversed(range(1,len(cat_feature_value_counts)+1)))\n",
    "    encoder_list_range = dict(zip(value_counts_list,value_counts_range))\n",
    "    column = column.map(encoder_list_range)\n",
    "    return column\n",
    "    "
   ]
  },
  {
   "cell_type": "code",
   "execution_count": 34,
   "metadata": {},
   "outputs": [],
   "source": [
    "df['color'] = label_encoding(df['color'])\n",
    "df['make'] = label_encoding(df['make'])\n",
    "df['drive_unit']=label_encoding(df['drive_unit'])\n",
    "df['condition']=label_encoding(df['condition'])"
   ]
  },
  {
   "cell_type": "code",
   "execution_count": 35,
   "metadata": {},
   "outputs": [],
   "source": [
    "df.drop(['Unnamed: 0','model'],axis=1,inplace=True)"
   ]
  },
  {
   "cell_type": "code",
   "execution_count": 36,
   "metadata": {},
   "outputs": [],
   "source": [
    "df =pd.get_dummies(df,drop_first=True)"
   ]
  },
  {
   "cell_type": "code",
   "execution_count": 37,
   "metadata": {},
   "outputs": [
    {
     "data": {
      "text/html": [
       "<div>\n",
       "<style scoped>\n",
       "    .dataframe tbody tr th:only-of-type {\n",
       "        vertical-align: middle;\n",
       "    }\n",
       "\n",
       "    .dataframe tbody tr th {\n",
       "        vertical-align: top;\n",
       "    }\n",
       "\n",
       "    .dataframe thead th {\n",
       "        text-align: right;\n",
       "    }\n",
       "</style>\n",
       "<table border=\"1\" class=\"dataframe\">\n",
       "  <thead>\n",
       "    <tr style=\"text-align: right;\">\n",
       "      <th></th>\n",
       "      <th>make</th>\n",
       "      <th>priceUSD</th>\n",
       "      <th>year</th>\n",
       "      <th>condition</th>\n",
       "      <th>mileage(kilometers)</th>\n",
       "      <th>volume(cm3)</th>\n",
       "      <th>color</th>\n",
       "      <th>drive_unit</th>\n",
       "      <th>fuel_type_electrocar</th>\n",
       "      <th>fuel_type_petrol</th>\n",
       "      <th>transmission_mechanics</th>\n",
       "    </tr>\n",
       "  </thead>\n",
       "  <tbody>\n",
       "    <tr>\n",
       "      <td>make</td>\n",
       "      <td>1.000000</td>\n",
       "      <td>0.035248</td>\n",
       "      <td>0.060599</td>\n",
       "      <td>0.013879</td>\n",
       "      <td>0.080261</td>\n",
       "      <td>0.031125</td>\n",
       "      <td>0.069014</td>\n",
       "      <td>0.144152</td>\n",
       "      <td>0.040245</td>\n",
       "      <td>0.194991</td>\n",
       "      <td>0.056047</td>\n",
       "    </tr>\n",
       "    <tr>\n",
       "      <td>priceUSD</td>\n",
       "      <td>0.035248</td>\n",
       "      <td>1.000000</td>\n",
       "      <td>0.609118</td>\n",
       "      <td>0.086811</td>\n",
       "      <td>0.172291</td>\n",
       "      <td>0.272806</td>\n",
       "      <td>0.116247</td>\n",
       "      <td>0.377636</td>\n",
       "      <td>0.099432</td>\n",
       "      <td>0.102573</td>\n",
       "      <td>0.447860</td>\n",
       "    </tr>\n",
       "    <tr>\n",
       "      <td>year</td>\n",
       "      <td>0.060599</td>\n",
       "      <td>0.609118</td>\n",
       "      <td>1.000000</td>\n",
       "      <td>0.125338</td>\n",
       "      <td>0.237243</td>\n",
       "      <td>0.026321</td>\n",
       "      <td>0.159972</td>\n",
       "      <td>0.140130</td>\n",
       "      <td>0.036050</td>\n",
       "      <td>0.066184</td>\n",
       "      <td>0.394934</td>\n",
       "    </tr>\n",
       "    <tr>\n",
       "      <td>condition</td>\n",
       "      <td>0.013879</td>\n",
       "      <td>0.086811</td>\n",
       "      <td>0.125338</td>\n",
       "      <td>1.000000</td>\n",
       "      <td>0.040420</td>\n",
       "      <td>0.026017</td>\n",
       "      <td>0.042975</td>\n",
       "      <td>0.030493</td>\n",
       "      <td>0.003282</td>\n",
       "      <td>0.030952</td>\n",
       "      <td>0.057073</td>\n",
       "    </tr>\n",
       "    <tr>\n",
       "      <td>mileage(kilometers)</td>\n",
       "      <td>0.080261</td>\n",
       "      <td>0.172291</td>\n",
       "      <td>0.237243</td>\n",
       "      <td>0.040420</td>\n",
       "      <td>1.000000</td>\n",
       "      <td>0.015293</td>\n",
       "      <td>0.016909</td>\n",
       "      <td>0.056106</td>\n",
       "      <td>0.014170</td>\n",
       "      <td>0.089205</td>\n",
       "      <td>0.105236</td>\n",
       "    </tr>\n",
       "    <tr>\n",
       "      <td>volume(cm3)</td>\n",
       "      <td>0.031125</td>\n",
       "      <td>0.272806</td>\n",
       "      <td>0.026321</td>\n",
       "      <td>0.026017</td>\n",
       "      <td>0.015293</td>\n",
       "      <td>1.000000</td>\n",
       "      <td>0.106330</td>\n",
       "      <td>0.407125</td>\n",
       "      <td>0.003267</td>\n",
       "      <td>0.038615</td>\n",
       "      <td>0.354836</td>\n",
       "    </tr>\n",
       "    <tr>\n",
       "      <td>color</td>\n",
       "      <td>0.069014</td>\n",
       "      <td>0.116247</td>\n",
       "      <td>0.159972</td>\n",
       "      <td>0.042975</td>\n",
       "      <td>0.016909</td>\n",
       "      <td>0.106330</td>\n",
       "      <td>1.000000</td>\n",
       "      <td>0.087801</td>\n",
       "      <td>0.003231</td>\n",
       "      <td>0.102963</td>\n",
       "      <td>0.124041</td>\n",
       "    </tr>\n",
       "    <tr>\n",
       "      <td>drive_unit</td>\n",
       "      <td>0.144152</td>\n",
       "      <td>0.377636</td>\n",
       "      <td>0.140130</td>\n",
       "      <td>0.030493</td>\n",
       "      <td>0.056106</td>\n",
       "      <td>0.407125</td>\n",
       "      <td>0.087801</td>\n",
       "      <td>1.000000</td>\n",
       "      <td>0.005361</td>\n",
       "      <td>0.028472</td>\n",
       "      <td>0.400920</td>\n",
       "    </tr>\n",
       "    <tr>\n",
       "      <td>fuel_type_electrocar</td>\n",
       "      <td>0.040245</td>\n",
       "      <td>0.099432</td>\n",
       "      <td>0.036050</td>\n",
       "      <td>0.003282</td>\n",
       "      <td>0.014170</td>\n",
       "      <td>0.003267</td>\n",
       "      <td>0.003231</td>\n",
       "      <td>0.005361</td>\n",
       "      <td>1.000000</td>\n",
       "      <td>0.037000</td>\n",
       "      <td>0.034408</td>\n",
       "    </tr>\n",
       "    <tr>\n",
       "      <td>fuel_type_petrol</td>\n",
       "      <td>0.194991</td>\n",
       "      <td>0.102573</td>\n",
       "      <td>0.066184</td>\n",
       "      <td>0.030952</td>\n",
       "      <td>0.089205</td>\n",
       "      <td>0.038615</td>\n",
       "      <td>0.102963</td>\n",
       "      <td>0.028472</td>\n",
       "      <td>0.037000</td>\n",
       "      <td>1.000000</td>\n",
       "      <td>0.103600</td>\n",
       "    </tr>\n",
       "    <tr>\n",
       "      <td>transmission_mechanics</td>\n",
       "      <td>0.056047</td>\n",
       "      <td>0.447860</td>\n",
       "      <td>0.394934</td>\n",
       "      <td>0.057073</td>\n",
       "      <td>0.105236</td>\n",
       "      <td>0.354836</td>\n",
       "      <td>0.124041</td>\n",
       "      <td>0.400920</td>\n",
       "      <td>0.034408</td>\n",
       "      <td>0.103600</td>\n",
       "      <td>1.000000</td>\n",
       "    </tr>\n",
       "  </tbody>\n",
       "</table>\n",
       "</div>"
      ],
      "text/plain": [
       "                            make  priceUSD      year  condition  \\\n",
       "make                    1.000000  0.035248  0.060599   0.013879   \n",
       "priceUSD                0.035248  1.000000  0.609118   0.086811   \n",
       "year                    0.060599  0.609118  1.000000   0.125338   \n",
       "condition               0.013879  0.086811  0.125338   1.000000   \n",
       "mileage(kilometers)     0.080261  0.172291  0.237243   0.040420   \n",
       "volume(cm3)             0.031125  0.272806  0.026321   0.026017   \n",
       "color                   0.069014  0.116247  0.159972   0.042975   \n",
       "drive_unit              0.144152  0.377636  0.140130   0.030493   \n",
       "fuel_type_electrocar    0.040245  0.099432  0.036050   0.003282   \n",
       "fuel_type_petrol        0.194991  0.102573  0.066184   0.030952   \n",
       "transmission_mechanics  0.056047  0.447860  0.394934   0.057073   \n",
       "\n",
       "                        mileage(kilometers)  volume(cm3)     color  \\\n",
       "make                               0.080261     0.031125  0.069014   \n",
       "priceUSD                           0.172291     0.272806  0.116247   \n",
       "year                               0.237243     0.026321  0.159972   \n",
       "condition                          0.040420     0.026017  0.042975   \n",
       "mileage(kilometers)                1.000000     0.015293  0.016909   \n",
       "volume(cm3)                        0.015293     1.000000  0.106330   \n",
       "color                              0.016909     0.106330  1.000000   \n",
       "drive_unit                         0.056106     0.407125  0.087801   \n",
       "fuel_type_electrocar               0.014170     0.003267  0.003231   \n",
       "fuel_type_petrol                   0.089205     0.038615  0.102963   \n",
       "transmission_mechanics             0.105236     0.354836  0.124041   \n",
       "\n",
       "                        drive_unit  fuel_type_electrocar  fuel_type_petrol  \\\n",
       "make                      0.144152              0.040245          0.194991   \n",
       "priceUSD                  0.377636              0.099432          0.102573   \n",
       "year                      0.140130              0.036050          0.066184   \n",
       "condition                 0.030493              0.003282          0.030952   \n",
       "mileage(kilometers)       0.056106              0.014170          0.089205   \n",
       "volume(cm3)               0.407125              0.003267          0.038615   \n",
       "color                     0.087801              0.003231          0.102963   \n",
       "drive_unit                1.000000              0.005361          0.028472   \n",
       "fuel_type_electrocar      0.005361              1.000000          0.037000   \n",
       "fuel_type_petrol          0.028472              0.037000          1.000000   \n",
       "transmission_mechanics    0.400920              0.034408          0.103600   \n",
       "\n",
       "                        transmission_mechanics  \n",
       "make                                  0.056047  \n",
       "priceUSD                              0.447860  \n",
       "year                                  0.394934  \n",
       "condition                             0.057073  \n",
       "mileage(kilometers)                   0.105236  \n",
       "volume(cm3)                           0.354836  \n",
       "color                                 0.124041  \n",
       "drive_unit                            0.400920  \n",
       "fuel_type_electrocar                  0.034408  \n",
       "fuel_type_petrol                      0.103600  \n",
       "transmission_mechanics                1.000000  "
      ]
     },
     "execution_count": 37,
     "metadata": {},
     "output_type": "execute_result"
    }
   ],
   "source": [
    "#calculating corelation\n",
    "core = df.corr().abs()\n",
    "core"
   ]
  },
  {
   "cell_type": "code",
   "execution_count": 38,
   "metadata": {},
   "outputs": [
    {
     "data": {
      "image/png": "[encoded data removed]",
      "text/plain": [
       "<Figure size 1800x1800 with 2 Axes>"
      ]
     },
     "metadata": {
      "needs_background": "light"
     },
     "output_type": "display_data"
    }
   ],
   "source": [
    "plt.figure(figsize=(25,25))\n",
    "sns.heatmap(core,cmap=\"YlGnBu\", annot=True)\n",
    "plt.show()"
   ]
  },
  {
   "cell_type": "markdown",
   "metadata": {},
   "source": [
    "# handling outliers"
   ]
  },
  {
   "cell_type": "code",
   "execution_count": 39,
   "metadata": {},
   "outputs": [
    {
     "data": {
      "image/png": "[encoded data removed]",
      "text/plain": [
       "<Figure size 432x288 with 1 Axes>"
      ]
     },
     "metadata": {
      "needs_background": "light"
     },
     "output_type": "display_data"
    }
   ],
   "source": [
    "df.plot(kind='box')\n",
    "plt.show()"
   ]
  },
  {
   "cell_type": "code",
   "execution_count": 40,
   "metadata": {},
   "outputs": [
    {
     "data": {
      "text/plain": [
       "<matplotlib.axes._subplots.AxesSubplot at 0x27000de6248>"
      ]
     },
     "execution_count": 40,
     "metadata": {},
     "output_type": "execute_result"
    },
    {
     "data": {
      "image/png": "[encoded data removed]",
      "text/plain": [
       "<Figure size 432x288 with 1 Axes>"
      ]
     },
     "metadata": {
      "needs_background": "light"
     },
     "output_type": "display_data"
    }
   ],
   "source": [
    "sns.boxplot(x='make',data=df)\n"
   ]
  },
  {
   "cell_type": "code",
   "execution_count": 41,
   "metadata": {},
   "outputs": [
    {
     "data": {
      "text/html": [
       "<div>\n",
       "<style scoped>\n",
       "    .dataframe tbody tr th:only-of-type {\n",
       "        vertical-align: middle;\n",
       "    }\n",
       "\n",
       "    .dataframe tbody tr th {\n",
       "        vertical-align: top;\n",
       "    }\n",
       "\n",
       "    .dataframe thead th {\n",
       "        text-align: right;\n",
       "    }\n",
       "</style>\n",
       "<table border=\"1\" class=\"dataframe\">\n",
       "  <thead>\n",
       "    <tr style=\"text-align: right;\">\n",
       "      <th></th>\n",
       "      <th>make</th>\n",
       "      <th>priceUSD</th>\n",
       "      <th>year</th>\n",
       "      <th>condition</th>\n",
       "      <th>mileage(kilometers)</th>\n",
       "      <th>volume(cm3)</th>\n",
       "      <th>color</th>\n",
       "      <th>drive_unit</th>\n",
       "      <th>fuel_type_electrocar</th>\n",
       "      <th>fuel_type_petrol</th>\n",
       "      <th>transmission_mechanics</th>\n",
       "    </tr>\n",
       "  </thead>\n",
       "  <tbody>\n",
       "    <tr>\n",
       "      <td>count</td>\n",
       "      <td>38655.000000</td>\n",
       "      <td>38655.000000</td>\n",
       "      <td>38655.000000</td>\n",
       "      <td>38655.000000</td>\n",
       "      <td>3.865500e+04</td>\n",
       "      <td>38655.000000</td>\n",
       "      <td>38655.000000</td>\n",
       "      <td>38655.000000</td>\n",
       "      <td>38655.00000</td>\n",
       "      <td>38655.000000</td>\n",
       "      <td>38655.000000</td>\n",
       "    </tr>\n",
       "    <tr>\n",
       "      <td>mean</td>\n",
       "      <td>83.734135</td>\n",
       "      <td>7481.318251</td>\n",
       "      <td>2003.548907</td>\n",
       "      <td>2.976665</td>\n",
       "      <td>2.436653e+05</td>\n",
       "      <td>2106.167068</td>\n",
       "      <td>10.081749</td>\n",
       "      <td>3.458052</td>\n",
       "      <td>0.00075</td>\n",
       "      <td>0.645816</td>\n",
       "      <td>0.637977</td>\n",
       "    </tr>\n",
       "    <tr>\n",
       "      <td>std</td>\n",
       "      <td>10.172729</td>\n",
       "      <td>8376.403819</td>\n",
       "      <td>8.074797</td>\n",
       "      <td>0.194810</td>\n",
       "      <td>3.178598e+05</td>\n",
       "      <td>932.252270</td>\n",
       "      <td>2.740118</td>\n",
       "      <td>0.931277</td>\n",
       "      <td>0.02738</td>\n",
       "      <td>0.478272</td>\n",
       "      <td>0.480592</td>\n",
       "    </tr>\n",
       "    <tr>\n",
       "      <td>min</td>\n",
       "      <td>1.000000</td>\n",
       "      <td>95.000000</td>\n",
       "      <td>1938.000000</td>\n",
       "      <td>1.000000</td>\n",
       "      <td>0.000000e+00</td>\n",
       "      <td>500.000000</td>\n",
       "      <td>1.000000</td>\n",
       "      <td>1.000000</td>\n",
       "      <td>0.00000</td>\n",
       "      <td>0.000000</td>\n",
       "      <td>0.000000</td>\n",
       "    </tr>\n",
       "    <tr>\n",
       "      <td>25%</td>\n",
       "      <td>80.000000</td>\n",
       "      <td>2400.000000</td>\n",
       "      <td>1998.000000</td>\n",
       "      <td>3.000000</td>\n",
       "      <td>1.379740e+05</td>\n",
       "      <td>1600.000000</td>\n",
       "      <td>8.000000</td>\n",
       "      <td>3.000000</td>\n",
       "      <td>0.00000</td>\n",
       "      <td>0.000000</td>\n",
       "      <td>0.000000</td>\n",
       "    </tr>\n",
       "    <tr>\n",
       "      <td>50%</td>\n",
       "      <td>87.000000</td>\n",
       "      <td>5400.000000</td>\n",
       "      <td>2004.000000</td>\n",
       "      <td>3.000000</td>\n",
       "      <td>2.290000e+05</td>\n",
       "      <td>1999.000000</td>\n",
       "      <td>11.000000</td>\n",
       "      <td>4.000000</td>\n",
       "      <td>0.00000</td>\n",
       "      <td>1.000000</td>\n",
       "      <td>1.000000</td>\n",
       "    </tr>\n",
       "    <tr>\n",
       "      <td>75%</td>\n",
       "      <td>91.000000</td>\n",
       "      <td>9900.000000</td>\n",
       "      <td>2010.000000</td>\n",
       "      <td>3.000000</td>\n",
       "      <td>3.090000e+05</td>\n",
       "      <td>2300.000000</td>\n",
       "      <td>12.000000</td>\n",
       "      <td>4.000000</td>\n",
       "      <td>0.00000</td>\n",
       "      <td>1.000000</td>\n",
       "      <td>1.000000</td>\n",
       "    </tr>\n",
       "    <tr>\n",
       "      <td>max</td>\n",
       "      <td>93.000000</td>\n",
       "      <td>195000.000000</td>\n",
       "      <td>2019.000000</td>\n",
       "      <td>3.000000</td>\n",
       "      <td>9.999999e+06</td>\n",
       "      <td>20000.000000</td>\n",
       "      <td>13.000000</td>\n",
       "      <td>4.000000</td>\n",
       "      <td>1.00000</td>\n",
       "      <td>1.000000</td>\n",
       "      <td>1.000000</td>\n",
       "    </tr>\n",
       "  </tbody>\n",
       "</table>\n",
       "</div>"
      ],
      "text/plain": [
       "               make       priceUSD          year     condition  \\\n",
       "count  38655.000000   38655.000000  38655.000000  38655.000000   \n",
       "mean      83.734135    7481.318251   2003.548907      2.976665   \n",
       "std       10.172729    8376.403819      8.074797      0.194810   \n",
       "min        1.000000      95.000000   1938.000000      1.000000   \n",
       "25%       80.000000    2400.000000   1998.000000      3.000000   \n",
       "50%       87.000000    5400.000000   2004.000000      3.000000   \n",
       "75%       91.000000    9900.000000   2010.000000      3.000000   \n",
       "max       93.000000  195000.000000   2019.000000      3.000000   \n",
       "\n",
       "       mileage(kilometers)   volume(cm3)         color    drive_unit  \\\n",
       "count         3.865500e+04  38655.000000  38655.000000  38655.000000   \n",
       "mean          2.436653e+05   2106.167068     10.081749      3.458052   \n",
       "std           3.178598e+05    932.252270      2.740118      0.931277   \n",
       "min           0.000000e+00    500.000000      1.000000      1.000000   \n",
       "25%           1.379740e+05   1600.000000      8.000000      3.000000   \n",
       "50%           2.290000e+05   1999.000000     11.000000      4.000000   \n",
       "75%           3.090000e+05   2300.000000     12.000000      4.000000   \n",
       "max           9.999999e+06  20000.000000     13.000000      4.000000   \n",
       "\n",
       "       fuel_type_electrocar  fuel_type_petrol  transmission_mechanics  \n",
       "count           38655.00000      38655.000000            38655.000000  \n",
       "mean                0.00075          0.645816                0.637977  \n",
       "std                 0.02738          0.478272                0.480592  \n",
       "min                 0.00000          0.000000                0.000000  \n",
       "25%                 0.00000          0.000000                0.000000  \n",
       "50%                 0.00000          1.000000                1.000000  \n",
       "75%                 0.00000          1.000000                1.000000  \n",
       "max                 1.00000          1.000000                1.000000  "
      ]
     },
     "execution_count": 41,
     "metadata": {},
     "output_type": "execute_result"
    }
   ],
   "source": [
    "df.describe()"
   ]
  },
  {
   "cell_type": "code",
   "execution_count": 42,
   "metadata": {},
   "outputs": [],
   "source": [
    "from scipy import stats\n",
    "z = np.abs(stats.zscore(df))\n"
   ]
  },
  {
   "cell_type": "code",
   "execution_count": 43,
   "metadata": {},
   "outputs": [
    {
     "data": {
      "text/plain": [
       "(38655, 11)"
      ]
     },
     "execution_count": 43,
     "metadata": {},
     "output_type": "execute_result"
    }
   ],
   "source": [
    "df.shape"
   ]
  },
  {
   "cell_type": "code",
   "execution_count": 44,
   "metadata": {},
   "outputs": [
    {
     "name": "stdout",
     "output_type": "stream",
     "text": [
      "(array([    4,    12,    13, ..., 38629, 38629, 38653], dtype=int64), array([3, 1, 3, ..., 1, 5, 0], dtype=int64))\n"
     ]
    }
   ],
   "source": [
    "print(np.where(z > 3))"
   ]
  },
  {
   "cell_type": "code",
   "execution_count": 45,
   "metadata": {},
   "outputs": [
    {
     "data": {
      "text/plain": [
       "(35856, 11)"
      ]
     },
     "execution_count": 45,
     "metadata": {},
     "output_type": "execute_result"
    }
   ],
   "source": [
    "df = df[(z <= 3).all(axis=1)]\n",
    "df.shape"
   ]
  },
  {
   "cell_type": "code",
   "execution_count": 46,
   "metadata": {},
   "outputs": [
    {
     "data": {
      "text/html": [
       "<div>\n",
       "<style scoped>\n",
       "    .dataframe tbody tr th:only-of-type {\n",
       "        vertical-align: middle;\n",
       "    }\n",
       "\n",
       "    .dataframe tbody tr th {\n",
       "        vertical-align: top;\n",
       "    }\n",
       "\n",
       "    .dataframe thead th {\n",
       "        text-align: right;\n",
       "    }\n",
       "</style>\n",
       "<table border=\"1\" class=\"dataframe\">\n",
       "  <thead>\n",
       "    <tr style=\"text-align: right;\">\n",
       "      <th></th>\n",
       "      <th>make</th>\n",
       "      <th>priceUSD</th>\n",
       "      <th>year</th>\n",
       "      <th>condition</th>\n",
       "      <th>mileage(kilometers)</th>\n",
       "      <th>volume(cm3)</th>\n",
       "      <th>color</th>\n",
       "      <th>drive_unit</th>\n",
       "      <th>fuel_type_electrocar</th>\n",
       "      <th>fuel_type_petrol</th>\n",
       "      <th>transmission_mechanics</th>\n",
       "    </tr>\n",
       "  </thead>\n",
       "  <tbody>\n",
       "    <tr>\n",
       "      <td>0</td>\n",
       "      <td>74</td>\n",
       "      <td>565</td>\n",
       "      <td>1993</td>\n",
       "      <td>3</td>\n",
       "      <td>960015.0</td>\n",
       "      <td>2000.0</td>\n",
       "      <td>13</td>\n",
       "      <td>4</td>\n",
       "      <td>0</td>\n",
       "      <td>1</td>\n",
       "      <td>1</td>\n",
       "    </tr>\n",
       "    <tr>\n",
       "      <td>1</td>\n",
       "      <td>87</td>\n",
       "      <td>5550</td>\n",
       "      <td>2008</td>\n",
       "      <td>3</td>\n",
       "      <td>172000.0</td>\n",
       "      <td>1400.0</td>\n",
       "      <td>12</td>\n",
       "      <td>4</td>\n",
       "      <td>0</td>\n",
       "      <td>0</td>\n",
       "      <td>1</td>\n",
       "    </tr>\n",
       "    <tr>\n",
       "      <td>2</td>\n",
       "      <td>85</td>\n",
       "      <td>8300</td>\n",
       "      <td>2008</td>\n",
       "      <td>3</td>\n",
       "      <td>223000.0</td>\n",
       "      <td>2500.0</td>\n",
       "      <td>3</td>\n",
       "      <td>4</td>\n",
       "      <td>0</td>\n",
       "      <td>1</td>\n",
       "      <td>0</td>\n",
       "    </tr>\n",
       "    <tr>\n",
       "      <td>3</td>\n",
       "      <td>93</td>\n",
       "      <td>3300</td>\n",
       "      <td>2005</td>\n",
       "      <td>3</td>\n",
       "      <td>140000.0</td>\n",
       "      <td>1200.0</td>\n",
       "      <td>11</td>\n",
       "      <td>4</td>\n",
       "      <td>0</td>\n",
       "      <td>1</td>\n",
       "      <td>1</td>\n",
       "    </tr>\n",
       "    <tr>\n",
       "      <td>5</td>\n",
       "      <td>85</td>\n",
       "      <td>18900</td>\n",
       "      <td>2016</td>\n",
       "      <td>3</td>\n",
       "      <td>148000.0</td>\n",
       "      <td>1600.0</td>\n",
       "      <td>13</td>\n",
       "      <td>4</td>\n",
       "      <td>0</td>\n",
       "      <td>0</td>\n",
       "      <td>1</td>\n",
       "    </tr>\n",
       "  </tbody>\n",
       "</table>\n",
       "</div>"
      ],
      "text/plain": [
       "   make  priceUSD  year  condition  mileage(kilometers)  volume(cm3)  color  \\\n",
       "0    74       565  1993          3             960015.0       2000.0     13   \n",
       "1    87      5550  2008          3             172000.0       1400.0     12   \n",
       "2    85      8300  2008          3             223000.0       2500.0      3   \n",
       "3    93      3300  2005          3             140000.0       1200.0     11   \n",
       "5    85     18900  2016          3             148000.0       1600.0     13   \n",
       "\n",
       "   drive_unit  fuel_type_electrocar  fuel_type_petrol  transmission_mechanics  \n",
       "0           4                     0                 1                       1  \n",
       "1           4                     0                 0                       1  \n",
       "2           4                     0                 1                       0  \n",
       "3           4                     0                 1                       1  \n",
       "5           4                     0                 0                       1  "
      ]
     },
     "execution_count": 46,
     "metadata": {},
     "output_type": "execute_result"
    }
   ],
   "source": [
    "df.head()"
   ]
  },
  {
   "cell_type": "code",
   "execution_count": 47,
   "metadata": {},
   "outputs": [],
   "source": [
    "# Q1 = df.quantile(0.25)\n",
    "# Q3 = df.quantile(0.75)\n",
    "# IQR = Q3 - Q1\n",
    "# print(IQR)\n",
    "# df = df[~((df < (Q1 - 1.5 * IQR)) |(df > (Q3 + 1.5 * IQR))).any(axis=1)]"
   ]
  },
  {
   "cell_type": "markdown",
   "metadata": {},
   "source": [
    "# training and testing different models "
   ]
  },
  {
   "cell_type": "code",
   "execution_count": 48,
   "metadata": {},
   "outputs": [
    {
     "data": {
      "text/html": [
       "<div>\n",
       "<style scoped>\n",
       "    .dataframe tbody tr th:only-of-type {\n",
       "        vertical-align: middle;\n",
       "    }\n",
       "\n",
       "    .dataframe tbody tr th {\n",
       "        vertical-align: top;\n",
       "    }\n",
       "\n",
       "    .dataframe thead th {\n",
       "        text-align: right;\n",
       "    }\n",
       "</style>\n",
       "<table border=\"1\" class=\"dataframe\">\n",
       "  <thead>\n",
       "    <tr style=\"text-align: right;\">\n",
       "      <th></th>\n",
       "      <th>make</th>\n",
       "      <th>priceUSD</th>\n",
       "      <th>year</th>\n",
       "      <th>condition</th>\n",
       "      <th>mileage(kilometers)</th>\n",
       "      <th>volume(cm3)</th>\n",
       "      <th>color</th>\n",
       "      <th>drive_unit</th>\n",
       "      <th>fuel_type_electrocar</th>\n",
       "      <th>fuel_type_petrol</th>\n",
       "      <th>transmission_mechanics</th>\n",
       "    </tr>\n",
       "  </thead>\n",
       "  <tbody>\n",
       "    <tr>\n",
       "      <td>0</td>\n",
       "      <td>-1.358874</td>\n",
       "      <td>-1.103907</td>\n",
       "      <td>-1.397660</td>\n",
       "      <td>0.0</td>\n",
       "      <td>5.667970</td>\n",
       "      <td>-0.069111</td>\n",
       "      <td>1.074542</td>\n",
       "      <td>0.555455</td>\n",
       "      <td>0.0</td>\n",
       "      <td>0.756132</td>\n",
       "      <td>0.737329</td>\n",
       "    </tr>\n",
       "    <tr>\n",
       "      <td>1</td>\n",
       "      <td>0.279934</td>\n",
       "      <td>-0.228799</td>\n",
       "      <td>0.585454</td>\n",
       "      <td>0.0</td>\n",
       "      <td>-0.468271</td>\n",
       "      <td>-1.029797</td>\n",
       "      <td>0.699332</td>\n",
       "      <td>0.555455</td>\n",
       "      <td>0.0</td>\n",
       "      <td>-1.322521</td>\n",
       "      <td>0.737329</td>\n",
       "    </tr>\n",
       "    <tr>\n",
       "      <td>2</td>\n",
       "      <td>0.027810</td>\n",
       "      <td>0.253959</td>\n",
       "      <td>0.585454</td>\n",
       "      <td>0.0</td>\n",
       "      <td>-0.071136</td>\n",
       "      <td>0.731461</td>\n",
       "      <td>-2.677554</td>\n",
       "      <td>0.555455</td>\n",
       "      <td>0.0</td>\n",
       "      <td>0.756132</td>\n",
       "      <td>-1.356246</td>\n",
       "    </tr>\n",
       "    <tr>\n",
       "      <td>3</td>\n",
       "      <td>1.036307</td>\n",
       "      <td>-0.623782</td>\n",
       "      <td>0.188832</td>\n",
       "      <td>0.0</td>\n",
       "      <td>-0.717453</td>\n",
       "      <td>-1.350025</td>\n",
       "      <td>0.324123</td>\n",
       "      <td>0.555455</td>\n",
       "      <td>0.0</td>\n",
       "      <td>0.756132</td>\n",
       "      <td>0.737329</td>\n",
       "    </tr>\n",
       "    <tr>\n",
       "      <td>4</td>\n",
       "      <td>0.027810</td>\n",
       "      <td>2.114770</td>\n",
       "      <td>1.643115</td>\n",
       "      <td>0.0</td>\n",
       "      <td>-0.655158</td>\n",
       "      <td>-0.709568</td>\n",
       "      <td>1.074542</td>\n",
       "      <td>0.555455</td>\n",
       "      <td>0.0</td>\n",
       "      <td>-1.322521</td>\n",
       "      <td>0.737329</td>\n",
       "    </tr>\n",
       "  </tbody>\n",
       "</table>\n",
       "</div>"
      ],
      "text/plain": [
       "       make  priceUSD      year  condition  mileage(kilometers)  volume(cm3)  \\\n",
       "0 -1.358874 -1.103907 -1.397660        0.0             5.667970    -0.069111   \n",
       "1  0.279934 -0.228799  0.585454        0.0            -0.468271    -1.029797   \n",
       "2  0.027810  0.253959  0.585454        0.0            -0.071136     0.731461   \n",
       "3  1.036307 -0.623782  0.188832        0.0            -0.717453    -1.350025   \n",
       "4  0.027810  2.114770  1.643115        0.0            -0.655158    -0.709568   \n",
       "\n",
       "      color  drive_unit  fuel_type_electrocar  fuel_type_petrol  \\\n",
       "0  1.074542    0.555455                   0.0          0.756132   \n",
       "1  0.699332    0.555455                   0.0         -1.322521   \n",
       "2 -2.677554    0.555455                   0.0          0.756132   \n",
       "3  0.324123    0.555455                   0.0          0.756132   \n",
       "4  1.074542    0.555455                   0.0         -1.322521   \n",
       "\n",
       "   transmission_mechanics  \n",
       "0                0.737329  \n",
       "1                0.737329  \n",
       "2               -1.356246  \n",
       "3                0.737329  \n",
       "4                0.737329  "
      ]
     },
     "execution_count": 48,
     "metadata": {},
     "output_type": "execute_result"
    }
   ],
   "source": [
    "cols = df.columns\n",
    "scaler = StandardScaler()\n",
    "df =pd.DataFrame(scaler.fit_transform(df),columns=cols)\n",
    "df.head()\n"
   ]
  },
  {
   "cell_type": "code",
   "execution_count": 49,
   "metadata": {},
   "outputs": [],
   "source": [
    "x = df.drop(['priceUSD'],axis=1)\n",
    "y = df['priceUSD']"
   ]
  },
  {
   "cell_type": "code",
   "execution_count": 50,
   "metadata": {},
   "outputs": [
    {
     "data": {
      "text/plain": [
       "(35856, 10)"
      ]
     },
     "execution_count": 50,
     "metadata": {},
     "output_type": "execute_result"
    }
   ],
   "source": [
    "x.shape"
   ]
  },
  {
   "cell_type": "code",
   "execution_count": 51,
   "metadata": {},
   "outputs": [],
   "source": [
    "x_train,x_test,y_train,y_test = train_test_split(x,y,test_size=0.3,random_state=42)"
   ]
  },
  {
   "cell_type": "code",
   "execution_count": 52,
   "metadata": {},
   "outputs": [],
   "source": [
    "from sklearn.metrics import r2_score\n",
    "from sklearn.model_selection import ShuffleSplit, cross_val_score\n",
    "from sklearn.ensemble import RandomForestRegressor\n",
    "from sklearn.tree import DecisionTreeRegressor\n",
    "from sklearn.metrics import mean_squared_error\n",
    "from sklearn.svm import SVR"
   ]
  },
  {
   "cell_type": "code",
   "execution_count": 53,
   "metadata": {},
   "outputs": [],
   "source": [
    "#defining function to get r2score\n",
    "def r2score(model,X,y):\n",
    "    cv = ShuffleSplit(n_splits=5, test_size=0.3, random_state=0)\n",
    "    r2scores = cross_val_score(model,x_train,y_train,cv = cv,scoring = 'r2')\n",
    "    return(r2scores.mean())\n",
    "    "
   ]
  },
  {
   "cell_type": "code",
   "execution_count": 54,
   "metadata": {},
   "outputs": [],
   "source": [
    "#rootmeansquareerror\n",
    "def rmse(model,x,y):\n",
    "    cv = ShuffleSplit(n_splits=5, test_size=0.3, random_state=0)\n",
    "    rmse = -cross_val_score(model,x_train,y_train,cv = cv,scoring = 'neg_mean_squared_error')\n",
    "    return(np.sqrt(rmse.mean()))"
   ]
  },
  {
   "cell_type": "markdown",
   "metadata": {},
   "source": [
    "# linear regression"
   ]
  },
  {
   "cell_type": "code",
   "execution_count": 55,
   "metadata": {},
   "outputs": [],
   "source": [
    "try:\n",
    "    lr = LinearRegression()\n",
    "    r2_lr=r2score(lr,x_train,y_train)\n",
    "    rmse_lr = rmse(lr,x_train,y_train)\n",
    "except:\n",
    "    r2_lr=r2score(lr,x_train,y_train)\n",
    "    rmse_lr = rmse(lr,x_train,y_train)"
   ]
  },
  {
   "cell_type": "code",
   "execution_count": 56,
   "metadata": {},
   "outputs": [
    {
     "name": "stdout",
     "output_type": "stream",
     "text": [
      "the r2_score on cross_validation 0.718727399083489\n",
      "the rmse_score on cross_validation 0.526184201648884\n"
     ]
    }
   ],
   "source": [
    "print(\"the r2_score on cross_validation\",r2_lr)\n",
    "print(\"the rmse_score on cross_validation\",rmse_lr)"
   ]
  },
  {
   "cell_type": "code",
   "execution_count": 57,
   "metadata": {},
   "outputs": [
    {
     "name": "stdout",
     "output_type": "stream",
     "text": [
      "the r2 on test 0.7291099704634678\n",
      "the rmse on teat 0.5247527125033994\n"
     ]
    }
   ],
   "source": [
    "lr.fit(x_train,y_train)\n",
    "y_pred = lr.predict(x_test)\n",
    "print(\"the r2 on test\",r2_score(y_test,y_pred))\n",
    "print(\"the rmse on teat\",np.sqrt(mean_squared_error(y_test,y_pred)))"
   ]
  },
  {
   "cell_type": "markdown",
   "metadata": {},
   "source": [
    "# support vector regressor"
   ]
  },
  {
   "cell_type": "code",
   "execution_count": 58,
   "metadata": {},
   "outputs": [],
   "source": [
    "svr = SVR( gamma='auto')\n",
    "r2_svr=r2score(svr,x_train,y_train)\n",
    "rmse_svr = rmse(svr,x_train,y_train)"
   ]
  },
  {
   "cell_type": "code",
   "execution_count": 59,
   "metadata": {},
   "outputs": [
    {
     "name": "stdout",
     "output_type": "stream",
     "text": [
      "the r2_score on cross_validation 0.8712538969911099\n",
      "the rmse_score on cross_validation 0.35602287080770345\n"
     ]
    }
   ],
   "source": [
    "print(\"the r2_score on cross_validation\",r2_svr)\n",
    "print(\"the rmse_score on cross_validation\",rmse_svr)"
   ]
  },
  {
   "cell_type": "code",
   "execution_count": 60,
   "metadata": {},
   "outputs": [],
   "source": [
    "# param_grid = {'C':[0.001,0.1,1,10],'gamma':[1,0.1,0.01,0.001] ,'kernel':['rbf']}\n",
    "# from sklearn.model_selection import RandomizedSearchCV\n",
    "# clf = RandomizedSearchCV(svr,param_grid,n_jobs=-1,verbose=4,cv=3,scoring = 'r2')\n"
   ]
  },
  {
   "cell_type": "code",
   "execution_count": 61,
   "metadata": {},
   "outputs": [],
   "source": [
    "# clf.fit(x_train,y_train)\n"
   ]
  },
  {
   "cell_type": "code",
   "execution_count": 62,
   "metadata": {},
   "outputs": [
    {
     "name": "stdout",
     "output_type": "stream",
     "text": [
      "the r2 on test 0.8805299914130671\n",
      "the rmse on test 0.3484878406102453\n"
     ]
    }
   ],
   "source": [
    "svr.fit(x_train,y_train)\n",
    "y_pred = svr.predict(x_test)\n",
    "print(\"the r2 on test\",r2_score(y_test,y_pred))\n",
    "print(\"the rmse on test\",np.sqrt(mean_squared_error(y_test,y_pred)))"
   ]
  },
  {
   "cell_type": "markdown",
   "metadata": {},
   "source": [
    "# decesion tree regressor"
   ]
  },
  {
   "cell_type": "code",
   "execution_count": 63,
   "metadata": {},
   "outputs": [
    {
     "name": "stdout",
     "output_type": "stream",
     "text": [
      "the r2_score on cross_validation 0.8117913681987554\n",
      "the rmse_score on cross_validation 0.4303950726392121\n"
     ]
    }
   ],
   "source": [
    "dtr = DecisionTreeRegressor(random_state=100)\n",
    "r2_dtr=r2score(dtr,x_train,y_train)\n",
    "rmse_dtr = rmse(dtr,x_train,y_train)\n",
    "print(\"the r2_score on cross_validation\",r2_dtr)\n",
    "print(\"the rmse_score on cross_validation\",rmse_dtr)\n"
   ]
  },
  {
   "cell_type": "code",
   "execution_count": 64,
   "metadata": {},
   "outputs": [
    {
     "name": "stdout",
     "output_type": "stream",
     "text": [
      "the r2 on test 0.8348326985773026\n",
      "the rmse on test 0.4097511852364823\n"
     ]
    }
   ],
   "source": [
    "dtr.fit(x_train,y_train)\n",
    "y_pred = dtr.predict(x_test)\n",
    "print(\"the r2 on test\",r2_score(y_test,y_pred))\n",
    "print(\"the rmse on test\",np.sqrt(mean_squared_error(y_test,y_pred)))"
   ]
  },
  {
   "cell_type": "markdown",
   "metadata": {},
   "source": [
    "# random forest regressor"
   ]
  },
  {
   "cell_type": "code",
   "execution_count": 65,
   "metadata": {},
   "outputs": [
    {
     "name": "stdout",
     "output_type": "stream",
     "text": [
      "the r2_score on cross_validation 0.8949005324352852\n",
      "the rmse_score on cross_validation 0.32172150987731885\n"
     ]
    }
   ],
   "source": [
    "rfr = RandomForestRegressor(random_state=42,bootstrap=True,n_estimators=50,max_features='log2')\n",
    "r2_rfr=r2score(rfr,x_train,y_train)\n",
    "rmse_rfr = rmse(rfr,x_train,y_train)\n",
    "print(\"the r2_score on cross_validation\",r2_rfr)\n",
    "print(\"the rmse_score on cross_validation\",rmse_rfr)"
   ]
  },
  {
   "cell_type": "code",
   "execution_count": 66,
   "metadata": {},
   "outputs": [
    {
     "name": "stdout",
     "output_type": "stream",
     "text": [
      "the r2 on test 0.9069514767573721\n",
      "the rmse on test 0.3075480121976243\n"
     ]
    }
   ],
   "source": [
    "rfr.fit(x_train,y_train)\n",
    "y_pred = rfr.predict(x_test)\n",
    "print(\"the r2 on test\",r2_score(y_test,y_pred))\n",
    "print(\"the rmse on test\",np.sqrt(mean_squared_error(y_test,y_pred)))\n"
   ]
  }
 ],
 "metadata": {
  "kernelspec": {
   "display_name": "Python 3",
   "language": "python",
   "name": "python3"
  },
  "language_info": {
   "codemirror_mode": {
    "name": "ipython",
    "version": 3
   },
   "file_extension": ".py",
   "mimetype": "text/x-python",
   "name": "python",
   "nbconvert_exporter": "python",
   "pygments_lexer": "ipython3",
   "version": "3.7.4"
  }
 },
 "nbformat": 4,
 "nbformat_minor": 2
}
